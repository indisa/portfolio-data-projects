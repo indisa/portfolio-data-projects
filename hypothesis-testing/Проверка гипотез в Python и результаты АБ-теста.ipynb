{
 "cells": [
  {
   "cell_type": "code",
   "execution_count": null,
   "id": "260deb47",
   "metadata": {
    "vscode": {
     "languageId": "plaintext"
    }
   },
   "outputs": [],
   "source": [
    "Предварительно был применен SQL для вывода данных из БД\n",
    "\n",
    "-- MAU авторов\n",
    "\n",
    "SELECT \n",
    "  main_author_name,\n",
    "  COUNT(DISTINCT puid) AS mau\n",
    "FROM bookmate.author aut\n",
    "JOIN bookmate.content c USING(main_author_id)\n",
    "JOIN bookmate.audition aud USING(main_content_id)\n",
    "WHERE msk_business_dt_str >= DATE '2024-11-01'\n",
    "  AND msk_business_dt_str < DATE '2024-12-01'\n",
    "GROUP BY main_author_name\n",
    "ORDER BY mau DESC\n",
    "LIMIT 3;\n",
    "\n",
    "-- MAU произведений\n",
    "\n",
    "SELECT \n",
    "  main_content_name,\n",
    "  published_topic_title_list,\n",
    "  main_author_name,\n",
    "  COUNT(DISTINCT puid) AS mau\n",
    "FROM bookmate.author aut\n",
    "JOIN bookmate.content c USING(main_author_id)\n",
    "JOIN bookmate.audition aud USING(main_content_id)\n",
    "WHERE msk_business_dt_str >= DATE '2024-11-01'\n",
    "  AND msk_business_dt_str < DATE '2024-12-01'\n",
    "GROUP BY 1, 2, 3\n",
    "ORDER BY mau DESC\n",
    "LIMIT 3;\n",
    "\n",
    "-- Retention Rate\n",
    "\n",
    "-- Новые пользователи — те, кто активен 2 декабря\n",
    "WITH new_users AS (\n",
    "    SELECT DISTINCT puid\n",
    "    FROM bookmate.audition\n",
    "    WHERE msk_business_dt_str = DATE '2024-12-02'\n",
    "),\n",
    "\n",
    "-- Все активности пользователей из этой когорты\n",
    "active_users AS (\n",
    "    SELECT\n",
    "        a.puid,\n",
    "        a.msk_business_dt_str::date AS log_date\n",
    "    FROM bookmate.audition a\n",
    "    JOIN new_users nu ON a.puid = nu.puid\n",
    "    WHERE a.msk_business_dt_str::date >= DATE '2024-12-02'\n",
    "),\n",
    "\n",
    "-- Разница между датой события и датой установки\n",
    "daily_retention AS (\n",
    "    SELECT\n",
    "        puid,\n",
    "        (log_date - DATE '2024-12-02')::int AS day_since_install\n",
    "    FROM active_users\n",
    ")\n",
    "\n",
    "-- Финальный расчёт retention\n",
    "SELECT\n",
    "    day_since_install,\n",
    "    COUNT(DISTINCT puid) AS retained_users,\n",
    "    ROUND(\n",
    "        (1.0 * COUNT(DISTINCT puid) / MAX(COUNT(DISTINCT puid)) OVER (ORDER BY day_since_install))::numeric,\n",
    "        2\n",
    "    ) AS retention_rate\n",
    "FROM daily_retention\n",
    "WHERE day_since_install < 30\n",
    "GROUP BY day_since_install\n",
    "ORDER BY day_since_install;\n",
    "\n",
    "\n",
    "--  LTV\n",
    "\n",
    "WITH active_users AS (\n",
    "    SELECT\n",
    "        usage_geo_id_name AS city,\n",
    "        puid,\n",
    "        COUNT(DISTINCT EXTRACT(MONTH FROM msk_business_dt_str)) AS months_count\n",
    "    FROM bookmate.audition AS ba\n",
    "    JOIN bookmate.geo AS bg ON ba.usage_geo_id = bg.usage_geo_id\n",
    "    GROUP BY city, puid\n",
    "),\n",
    "total_months AS (\n",
    "    SELECT\n",
    "        city,\n",
    "        puid,\n",
    "        SUM(months_count) AS total_months_count\n",
    "    FROM active_users\n",
    "    WHERE city IN ('Москва', 'Санкт-Петербург')\n",
    "    GROUP BY city, puid\n",
    ")\n",
    "SELECT\n",
    "    city,\n",
    "    COUNT(DISTINCT puid) AS total_users,\n",
    "    ROUND((399::numeric * SUM(total_months_count) / COUNT(DISTINCT puid)), 2) AS ltv\n",
    "FROM\n",
    "    total_months\n",
    "WHERE\n",
    "    city IN ('Москва', 'Санкт-Петербург')\n",
    "GROUP BY city\n",
    "ORDER BY city;\n",
    "\n",
    "-- Расчёт средней выручки прослушанного часа — аналог среднего чека\n",
    "\n",
    "WITH monthly_summary AS (\n",
    "SELECT\n",
    "DATE_TRUNC('month', CAST(msk_business_dt_str AS DATE))::DATE AS month,\n",
    "COUNT(DISTINCT puid) AS mau,\n",
    "SUM(hours) AS hours\n",
    "FROM bookmate.audition\n",
    "WHERE msk_business_dt_str >= '2024-09-01'\n",
    "AND msk_business_dt_str < '2024-12-01'\n",
    "GROUP BY DATE_TRUNC('month', CAST(msk_business_dt_str AS DATE))\n",
    ")\n",
    "SELECT\n",
    "month,\n",
    "mau,\n",
    "ROUND(hours, 2) AS hours,\n",
    "ROUND((mau * 399) / hours, 2) AS avg_hour_rev\n",
    "FROM monthly_summary;\n",
    "\n"
   ]
  },
  {
   "cell_type": "markdown",
   "id": "_E41Wr5fqnFT",
   "metadata": {
    "id": "_E41Wr5fqnFT"
   },
   "source": [
    "# Часть 1. Проверка гипотезы в Python и составление аналитической записки"
   ]
  },
  {
   "cell_type": "markdown",
   "id": "Z5_6nf-FrY7o",
   "metadata": {
    "id": "Z5_6nf-FrY7o"
   },
   "source": [
    "Вы предобработали данные в SQL, и теперь они готовы для проверки гипотезы в Python. Загрузите данные пользователей из Москвы и Санкт-Петербурга c суммой часов их активности из файла yandex_knigi_data.csv. Если работаете локально, скачать файл можно по ссылке.\n",
    "\n",
    "Проверьте наличие дубликатов в идентификаторах пользователей. Сравните размеры групп, их статистики и распределение.\n",
    "\n",
    "Напомним, как выглядит гипотеза: пользователи из Москвы проводят в среднем больше времени за чтением и прослушиванием книг в приложении, чем пользователи из Москвы. Попробуйте статистически это доказать, используя одностороннюю проверку гипотезы с двумя выборками:\n",
    "\n",
    "Нулевая гипотеза $H_0: \\mu_{\\text{СПб}} \\leq \\mu_{\\text{Москва}}$ <br> Среднее время активности пользователей в Санкт-Петербурге не больше, чем в Москве.\n",
    "\n",
    "Альтернативная гипотеза $H_1: \\mu_{\\text{СПб}} > \\mu_{\\text{Москва}}$ <br> Среднее время активности пользователей в Санкт-Петербурге больше, и это различие статистически значимо.\n",
    "\n",
    "По результатам анализа данных подготовьте аналитическую записку, в которой опишите:\n",
    "\n",
    "Выбранный тип t-теста и уровень статистической значимости.\n",
    "\n",
    "Результат теста, или p-value.\n",
    "\n",
    "Вывод на основе полученного p-value, то есть интерпретацию результатов.\n",
    "\n",
    "Одну или две возможные причины, объясняющие полученные результаты."
   ]
  },
  {
   "cell_type": "markdown",
   "id": "e06910dd",
   "metadata": {
    "id": "e06910dd"
   },
   "source": [
    "## Анализ данных Яндекс.Книги\n",
    "\n",
    "- Автор: Надежда Поверенова\n",
    "- Дата: 27.03.2025"
   ]
  },
  {
   "cell_type": "markdown",
   "id": "4149134c",
   "metadata": {
    "id": "4149134c"
   },
   "source": [
    "## Цели и задачи проекта\n",
    "\n",
    "Задача 1 части проекта - загрузить данные, ознакомиться с ними и с помощью статистических тестов проверить гипотезу о том, что в Санкт-Петербурге пользователи больше времени проводят за чтением и прослушиванием книг, чем в Москве. "
   ]
  },
  {
   "cell_type": "markdown",
   "id": "728986ea",
   "metadata": {
    "id": "728986ea"
   },
   "source": [
    "## Описание данных\n",
    "\n",
    "ab_test_participants.csv — таблица участников тестов.\n",
    "\n",
    "**Структура файла:**\n",
    "- user_id — идентификатор пользователя;\n",
    "- group — группа пользователя;\n",
    "- ab_test — название теста;\n",
    "- device — устройство, с которого происходила регистрация.\n",
    "\n",
    "ab_test_events.zip — архив с одним csv-файлом, в котором собраны события 2020 года;\n",
    "\n",
    "**Структура файла:**\n",
    "- user_id — идентификатор пользователя;\n",
    "- event_dt — дата и время события;\n",
    "- event_name — тип события;\n",
    "- details — дополнительные данные о событии."
   ]
  },
  {
   "cell_type": "markdown",
   "id": "4fecaf95",
   "metadata": {
    "id": "4fecaf95"
   },
   "source": [
    "## Содержимое проекта\n",
    "\n",
    "\n",
    "1. Загрузка и знакомство с данными\n",
    "2. Проверка гипотезы о пользователях из Санкт-Петербурга\n",
    "3. Подготовка аналитической записки о результатах теста\n",
    "\n",
    "---"
   ]
  },
  {
   "cell_type": "markdown",
   "id": "6f7d21d6",
   "metadata": {
    "id": "6f7d21d6"
   },
   "source": [
    "## 1. Загрузка данных и знакомство с ними\n",
    "\n",
    "Загрузите данные пользователей из Москвы и Санкт-Петербурга c их активностью (суммой часов чтения и прослушивания) из файла `/datasets/yandex_knigi_data.csv`."
   ]
  },
  {
   "cell_type": "code",
   "execution_count": 1,
   "id": "aab3bffe",
   "metadata": {},
   "outputs": [],
   "source": [
    "# Импортируем библиотеки\n",
    "import pandas as pd\n",
    "import warnings\n",
    "from scipy import stats\n",
    "from scipy.stats import mannwhitneyu\n",
    "from statsmodels.stats.power import NormalIndPower\n",
    "from statsmodels.stats.proportion import proportion_effectsize\n",
    "from statsmodels.stats.proportion import proportions_ztest\n",
    "\n",
    "# Загружаем библиотеки для визуализации данных\n",
    "import matplotlib.pyplot as plt\n",
    "import seaborn as sns\n",
    "import numpy as np\n"
   ]
  },
  {
   "cell_type": "code",
   "execution_count": 2,
   "id": "19833701",
   "metadata": {},
   "outputs": [],
   "source": [
    "# Общие настройки блокнота\n",
    "pd.set_option('display.max_rows', 10)\n",
    "pd.set_option('display.max_colwidth', None)\n",
    "pd.set_option('display.float_format', '{:.2f}'.format)\n",
    "\n",
    "# Настройки для повышения читаемости\n",
    "pd.set_option('display.expand_frame_repr', False)\n",
    "\n",
    "# Общие настройки для графиков\n",
    "large = 16\n",
    "med = 12\n",
    "small = 10\n",
    "\n",
    "params = {\n",
    "    \"axes.titlesize\": large,\n",
    "    \"legend.fontsize\": med,\n",
    "    \"figure.figsize\": (12, 8),\n",
    "    \"axes.labelsize\": med,\n",
    "    \"axes.titlesize\": med,\n",
    "    \"xtick.labelsize\": med,\n",
    "    \"ytick.labelsize\": med,\n",
    "    \"figure.titlesize\": large,\n",
    "}\n",
    "\n",
    "plt.rcParams.update(params)\n",
    "\n",
    "# Получаем цвета из палитры Seaborn\n",
    "palette = sns.color_palette(\"viridis\")\n",
    "\n",
    "# Устанавливаем цвета для всех графиков Matplotlib\n",
    "plt.rcParams[\"axes.prop_cycle\"] = plt.cycler(color=palette)\n",
    "\n",
    "warnings.filterwarnings(\"ignore\")"
   ]
  },
  {
   "cell_type": "code",
   "execution_count": 3,
   "id": "05faf34b",
   "metadata": {
    "id": "05faf34b"
   },
   "outputs": [],
   "source": [
    "# Загружаем данные в датасет\n",
    "df = pd.read_csv('https://code.s3.yandex.net/datasets/yandex_knigi_data.csv')"
   ]
  },
  {
   "cell_type": "markdown",
   "id": "956e82e2",
   "metadata": {
    "id": "956e82e2"
   },
   "source": [
    "## 2. Проверка гипотезы в Python\n",
    "\n",
    "Гипотеза звучит так: пользователи из Санкт-Петербурга проводят в среднем больше времени за чтением и прослушиванием книг в приложении, чем пользователи из Москвы. Попробуйте статистически это доказать, используя одностороннюю проверку гипотезы с двумя выборками:\n",
    "\n",
    "- Нулевая гипотеза H₀: Средняя активность пользователей в часах в двух группах (Москва и Санкт-Петербург) не различается.\n",
    "\n",
    "- Альтернативная гипотеза H₁: Средняя активность пользователей в Санкт-Петербурге больше, и это различие статистически значимо."
   ]
  },
  {
   "cell_type": "code",
   "execution_count": 4,
   "id": "67956690",
   "metadata": {
    "id": "67956690"
   },
   "outputs": [
    {
     "data": {
      "text/plain": [
       "ShapiroResult(statistic=0.29297834634780884, pvalue=0.0)"
      ]
     },
     "metadata": {},
     "output_type": "display_data"
    },
    {
     "data": {
      "text/plain": [
       "ShapiroResult(statistic=0.28286635875701904, pvalue=0.0)"
      ]
     },
     "metadata": {},
     "output_type": "display_data"
    },
    {
     "data": {
      "text/plain": [
       "LeveneResult(statistic=0.60611624217368, pvalue=0.4362748478542563)"
      ]
     },
     "metadata": {},
     "output_type": "display_data"
    }
   ],
   "source": [
    "# Фильтруем пользователей по городам\n",
    "m_hours = df[df['city'] == 'Москва']['hours']\n",
    "spb_hours = df[df['city'] == 'Санкт-Петербург']['hours']\n",
    "\n",
    "# Проверяем нормальность распределения\n",
    "display(stats.shapiro(m_hours))\n",
    "display(stats.shapiro(spb_hours))\n",
    "\n",
    "# Проверяем равенство дисперсий \n",
    "display(stats.levene(m_hours, spb_hours))"
   ]
  },
  {
   "cell_type": "code",
   "execution_count": 5,
   "id": "12a508df",
   "metadata": {},
   "outputs": [
    {
     "data": {
      "image/png": "[encoded data removed]",
      "text/plain": [
       "<Figure size 864x432 with 1 Axes>"
      ]
     },
     "metadata": {
      "needs_background": "light"
     },
     "output_type": "display_data"
    }
   ],
   "source": [
    "# Строим графики распределения \n",
    "plt.figure(figsize=(12, 6))\n",
    "\n",
    "# Построим распределения\n",
    "sns.kdeplot(data=df[df['city'] == 'Москва'], x='hours', label='Москва', shade=True)\n",
    "sns.kdeplot(data=df[df['city'] == 'Санкт-Петербург'], x='hours', label='Санкт-Петербург', shade=True)\n",
    "\n",
    "# Добавим подписи\n",
    "plt.title('Распределение времени, проведённого в приложении (в часах)')\n",
    "plt.xlabel('Часы')\n",
    "plt.ylabel('Плотность')\n",
    "plt.legend()\n",
    "\n",
    "# Показать график\n",
    "plt.show()"
   ]
  },
  {
   "cell_type": "markdown",
   "id": "7f38a4fa",
   "metadata": {},
   "source": [
    "Распределение ассиметрично с резким смещением влево, с длинным хвостом. Кривые при этом почти совпадают, то есть распределения Москвы и Санкт-Петербурга очень похожи. Данные не нормально распределены, но выборка достаточно большая.\n",
    "\n",
    "Дисперсии двух выборок похожи."
   ]
  },
  {
   "cell_type": "code",
   "execution_count": 6,
   "id": "411c4f8d",
   "metadata": {},
   "outputs": [
    {
     "data": {
      "text/plain": [
       "'Mann–Whitney U test'"
      ]
     },
     "metadata": {},
     "output_type": "display_data"
    },
    {
     "data": {
      "text/plain": [
       "'p-value:'"
      ]
     },
     "metadata": {},
     "output_type": "display_data"
    },
    {
     "data": {
      "text/plain": [
       "0.08905943967440888"
      ]
     },
     "metadata": {},
     "output_type": "display_data"
    },
    {
     "data": {
      "text/plain": [
       "'Нулевая гипотеза подтверждается.'"
      ]
     },
     "metadata": {},
     "output_type": "display_data"
    }
   ],
   "source": [
    "\n",
    "# Проводим односторонний t-тест\n",
    "t_stat, p_value = mannwhitneyu(spb_hours, m_hours, alternative='greater')\n",
    "\n",
    "display('Mann–Whitney U test')\n",
    "display(\"p-value:\", p_value)\n",
    "\n",
    "# Интерпретация\n",
    "alpha = 0.05\n",
    "if p_value < alpha:\n",
    "    display('Отвергаем нулевую гипотезу. В СПб пользователи проводят в среднем больше времени.')\n",
    "else: \n",
    "    display('Нулевая гипотеза подтверждается.')"
   ]
  },
  {
   "cell_type": "markdown",
   "id": "dbfebb42",
   "metadata": {},
   "source": [
    "**По итогам** проверки исходных данных можно сказать следующее:\n",
    "- Распределение данных не нормальное, со смещением влево, имеет длинный хвост.\n",
    "- При применении одностороннего теста Манна-Уитни бОльшая активность пользователей в Санкт-Петербурге **не была подтверждена**."
   ]
  },
  {
   "cell_type": "markdown",
   "id": "6953e84c",
   "metadata": {
    "id": "6953e84c"
   },
   "source": [
    "## 3. Аналитическая записка\n",
    "По результатам анализа данных подготовьте аналитическую записку, в которой опишете:\n",
    "\n",
    "- Выбранный тип t-теста и уровень статистической значимости.\n",
    "\n",
    "- Результат теста, или p-value.\n",
    "\n",
    "- Вывод на основе полученного p-value, то есть интерпретацию результатов.\n",
    "\n",
    "- Одну или две возможные причины, объясняющие полученные результаты.\n",
    "\n"
   ]
  },
  {
   "cell_type": "markdown",
   "id": "741e0c8a",
   "metadata": {},
   "source": [
    "**Результаты исследования:**\n",
    "- Для проверки гипотезы был выбран непараметрический односторонний тест Манна-Уитни из-за ненормальности распределения (по тесту Шапиро-Уилка). Уровень статистической значимости был установлен в размере 5%.\n",
    "- В результате проведения теста  был получен p-value 0.089, что больше уровня значимости, то есть нулевая гипотеза не отвергается.\n",
    "- На основании теста *нельзя утверждать*, что пользователи из Санкт-Петербурга проводят больше времени в приложении, чем пользователи из Москвы. \n",
    "- **Возможные причины:**\n",
    "  - Высокая вариативность данных - распределения имеют длинный хвост, что может размывать отличие между группами.\n",
    "  - Возможно, в среднем пользователи в Москва и Санкт-Петербурге проводят примерно одинаковое количество времени за чтением и прослушиванием книг, то есть различие незначительное.\n"
   ]
  },
  {
   "cell_type": "markdown",
   "id": "hc1d6jVISegz",
   "metadata": {
    "id": "hc1d6jVISegz"
   },
   "source": [
    "----"
   ]
  },
  {
   "cell_type": "markdown",
   "id": "NqOUIYhbrIfC",
   "metadata": {
    "id": "NqOUIYhbrIfC"
   },
   "source": [
    "# Часть 2. Анализ результатов A/B-тестирования"
   ]
  },
  {
   "cell_type": "markdown",
   "id": "tDwMKFNGsClr",
   "metadata": {
    "id": "tDwMKFNGsClr"
   },
   "source": [
    "Теперь вам нужно проанализировать другие данные. Представьте, что к вам обратились представители интернет-магазина BitMotion Kit, в котором продаются геймифицированные товары для тех, кто ведёт здоровый образ жизни. У него есть своя целевая аудитория, даже появились хиты продаж: эспандер со счётчиком и напоминанием, так и подстольный велотренажёр с Bluetooth.\n",
    "\n",
    "В будущем компания хочет расширить ассортимент товаров. Но перед этим нужно решить одну проблему. Интерфейс онлайн-магазина слишком сложен для пользователей — об этом говорят отзывы.\n",
    "\n",
    "Чтобы привлечь новых клиентов и увеличить число продаж, владельцы магазина разработали новую версию сайта и протестировали его на части пользователей. По задумке, это решение доказуемо повысит количество пользователей, которые совершат покупку.\n",
    "\n",
    "Ваша задача — провести оценку результатов A/B-теста. В вашем распоряжении:\n",
    "\n",
    "* данные о действиях пользователей и распределении их на группы,\n",
    "\n",
    "* техническое задание.\n",
    "\n",
    "Оцените корректность проведения теста и проанализируйте его результаты."
   ]
  },
  {
   "cell_type": "markdown",
   "id": "UNXAAyF5r9Rk",
   "metadata": {
    "id": "UNXAAyF5r9Rk"
   },
   "source": [
    "## 1. Опишите цели исследования.\n",
    "\n"
   ]
  },
  {
   "cell_type": "markdown",
   "id": "kHx-51yES8bd",
   "metadata": {
    "id": "kHx-51yES8bd"
   },
   "source": [
    "Исследование данных проводится с целью оценки результатов А/В теста, в котором проверялась новая версия сайта. Будет проведена загрузка данных, оценка корректности проведения теста и оценка результатов тестирования."
   ]
  },
  {
   "cell_type": "markdown",
   "id": "_CZryx2OsH-s",
   "metadata": {
    "id": "_CZryx2OsH-s"
   },
   "source": [
    "## 2. Загрузите данные, оцените их целостность.\n"
   ]
  },
  {
   "cell_type": "code",
   "execution_count": 7,
   "id": "DjFcJbeGsTIg",
   "metadata": {
    "id": "DjFcJbeGsTIg"
   },
   "outputs": [],
   "source": [
    "participants = pd.read_csv('https://code.s3.yandex.net/datasets/ab_test_participants.csv')\n",
    "events = pd.read_csv('https://code.s3.yandex.net/datasets/ab_test_events.zip',\n",
    "                     parse_dates=['event_dt'], low_memory=False)"
   ]
  },
  {
   "cell_type": "markdown",
   "id": "CnzA-efasUrk",
   "metadata": {
    "id": "CnzA-efasUrk"
   },
   "source": [
    "## 3. По таблице `ab_test_participants` оцените корректность проведения теста:\n",
    "\n",
    "   3\\.1 Выделите пользователей, участвующих в тесте, и проверьте:\n",
    "\n",
    "   - соответствие требованиям технического задания,\n",
    "\n",
    "   - равномерность распределения пользователей по группам теста,\n",
    "\n",
    "   - отсутствие пересечений с конкурирующим тестом (нет пользователей, участвующих одновременно в двух тестовых группах)."
   ]
  },
  {
   "cell_type": "markdown",
   "id": "1fa895db",
   "metadata": {},
   "source": [
    "Предыдущий аналитик проверял полное обновление дизайна сайта. Гипотеза заключается в следующем: упрощение интерфейса приведёт к тому, что в течение семи дней после регистрации в системе конверсия зарегистрированных пользователей в покупателей увеличится как минимум на три процентных пункта."
   ]
  },
  {
   "cell_type": "code",
   "execution_count": 8,
   "id": "6949b7d9",
   "metadata": {},
   "outputs": [
    {
     "name": "stdout",
     "output_type": "stream",
     "text": [
      "\n",
      "Количество пользователей в группе А: 5383\n",
      "Количество пользователей в группе В: 5467\n",
      "\n"
     ]
    }
   ],
   "source": [
    "# Отфильтруем только необходимый нам тест\n",
    "participants = participants[participants['ab_test'] == 'interface_eu_test'].copy()\n",
    "# Проверяем количество уникальных пользователей\n",
    "a_grp = participants[participants['group'] == 'A']['user_id'].nunique()\n",
    "b_grp = participants[participants['group'] == 'B']['user_id'].nunique()\n",
    "print(f\"\"\"\n",
    "Количество пользователей в группе А: {a_grp}\n",
    "Количество пользователей в группе В: {b_grp}\n",
    "\"\"\")\n"
   ]
  },
  {
   "cell_type": "code",
   "execution_count": 9,
   "id": "88c9a1cc",
   "metadata": {},
   "outputs": [
    {
     "data": {
      "image/png": "[encoded data removed]",
      "text/plain": [
       "<Figure size 360x360 with 1 Axes>"
      ]
     },
     "metadata": {
      "needs_background": "light"
     },
     "output_type": "display_data"
    }
   ],
   "source": [
    "# Создаем визуализацию\n",
    "plt.figure(figsize=(5,5))\n",
    "plt.bar(['A', 'B'], [a_grp, b_grp])\n",
    "plt.title('Количество уникальных пользователей по группам A и B')\n",
    "plt.xlabel(\"Группа\")\n",
    "plt.ylabel(\"Количество уникальных пользователей\")\n",
    "plt.grid(True)\n",
    "plt.show()"
   ]
  },
  {
   "cell_type": "code",
   "execution_count": 10,
   "id": "c24d3533",
   "metadata": {},
   "outputs": [
    {
     "data": {
      "image/png": "[encoded data removed]",
      "text/plain": [
       "<Figure size 576x360 with 1 Axes>"
      ]
     },
     "metadata": {
      "needs_background": "light"
     },
     "output_type": "display_data"
    }
   ],
   "source": [
    "# Считаем доли устройств в каждой группе\n",
    "share_grp = participants.groupby(['device','group'])['user_id'].nunique().reset_index()\n",
    "share_grp.columns = ['device', 'group', 'quantity']\n",
    "total_per_group = share_grp.groupby('group')['quantity'].transform('sum')\n",
    "share_grp['share'] = share_grp['quantity'] / total_per_group\n",
    "\n",
    "# Строим график\n",
    "plt.figure(figsize=(8, 5))\n",
    "sns.barplot(data=share_grp, x='device', y='share', hue='group', palette=['blue', 'orange'])\n",
    "\n",
    "# Оформление\n",
    "plt.title('Распределение устройств по группам A и B')\n",
    "plt.xlabel('Тип устройства')\n",
    "plt.ylabel('Доля пользователей')\n",
    "plt.grid(axis='y', linestyle='--', alpha=0.7)\n",
    "plt.legend(title='Группа')\n",
    "plt.tight_layout()\n",
    "plt.show()"
   ]
  },
  {
   "cell_type": "code",
   "execution_count": 11,
   "id": "2dbbc37f",
   "metadata": {},
   "outputs": [
    {
     "name": "stdout",
     "output_type": "stream",
     "text": [
      "Нет пользователей, которые встречаются в обеих группах.\n"
     ]
    }
   ],
   "source": [
    "# Проверка пересечений пользователей\n",
    "grp_a_list = set(participants[participants['group']=='A']['user_id'])\n",
    "grp_b_list = set(participants[participants['group']=='B']['user_id'])\n",
    "\n",
    "# Проверка на пересечение пользователей между группами\n",
    "common_users = grp_a_list.intersection(grp_b_list)\n",
    "if common_users:\n",
    "    print(f\"Количество пользователей, которые встречаются в обеих группах: {len(common_users)}\")\n",
    "else:\n",
    "    print(\"Нет пользователей, которые встречаются в обеих группах.\")"
   ]
  },
  {
   "cell_type": "markdown",
   "id": "55d4fb79",
   "metadata": {},
   "source": [
    "**Итого:**\n",
    "- После проверки не было выявлено пользователей, участвующих в тесте.\n",
    "- Распределение пользователей между группами достаточно равномерно.\n",
    "- Данные соответствуют техническому заданию."
   ]
  },
  {
   "cell_type": "markdown",
   "id": "GjulgSrlsqUU",
   "metadata": {
    "id": "GjulgSrlsqUU"
   },
   "source": [
    "3\\.2 Проанализируйте данные о пользовательской активности по таблице `ab_test_events`:\n",
    "\n",
    "- оставьте только события, связанные с участвующими в изучаемом тесте пользователями;"
   ]
  },
  {
   "cell_type": "code",
   "execution_count": 12,
   "id": "QMt0Ybo_swDK",
   "metadata": {
    "id": "QMt0Ybo_swDK"
   },
   "outputs": [
    {
     "name": "stdout",
     "output_type": "stream",
     "text": [
      "До фильтрации в датафрейме events было пользователей: 144184\n",
      "После фильтрации в датафрейме events стало пользователей: 10850\n"
     ]
    }
   ],
   "source": [
    "# Фильтруем пользователей, участвующих в тесте\n",
    "print(f\"До фильтрации в датафрейме events было пользователей: {events['user_id'].nunique()}\")\n",
    "events_f = events[events['user_id'].isin(participants['user_id'])]\n",
    "print(f\"После фильтрации в датафрейме events стало пользователей: {events_f['user_id'].nunique()}\")"
   ]
  },
  {
   "cell_type": "markdown",
   "id": "fBZ4DC2xswZJ",
   "metadata": {
    "id": "fBZ4DC2xswZJ"
   },
   "source": [
    "- определите горизонт анализа: рассчитайте время (лайфтайм) совершения события пользователем после регистрации и оставьте только те события, которые были выполнены в течение первых семи дней с момента регистрации;"
   ]
  },
  {
   "cell_type": "code",
   "execution_count": 13,
   "id": "sES4-dKts0Yb",
   "metadata": {
    "id": "sES4-dKts0Yb"
   },
   "outputs": [],
   "source": [
    "# Найдем дату регистрации каждого пользователя\n",
    "registration = events_f[events_f['event_name'] == 'registration'].groupby('user_id')['event_dt'].min().reset_index()\n",
    "registration = registration.rename(columns={'event_dt':'registration_dt'})\n",
    "\n",
    "# Объединяем датафреймы\n",
    "events_f = events_f.merge(registration, on='user_id', how='left')\n",
    "\n",
    "# Считаем лайфтайм события\n",
    "events_f['lifetime'] = (events_f['event_dt'] - events_f['registration_dt']).dt.days\n",
    "\n",
    "# Фильтруем события\n",
    "events_f_7d = events_f[events_f['lifetime'] < 7]"
   ]
  },
  {
   "cell_type": "markdown",
   "id": "7cf1df48",
   "metadata": {},
   "source": [
    "Оцените достаточность выборки для получения статистически значимых результатов A/B-теста. Заданные параметры:\n",
    "\n",
    "- базовый показатель конверсии — 30%,\n",
    "\n",
    "- мощность теста — 80%,\n",
    "\n",
    "- достоверность теста — 95%."
   ]
  },
  {
   "cell_type": "code",
   "execution_count": 14,
   "id": "7d97b466",
   "metadata": {},
   "outputs": [
    {
     "name": "stdout",
     "output_type": "stream",
     "text": [
      "Необходимый размер выборки на группу: 3762\n"
     ]
    }
   ],
   "source": [
    "# Задаем базовую конверсию и ожидаемую\n",
    "p1 = 0.30\n",
    "p2 = 0.33\n",
    "\n",
    "# Расчет эффекта\n",
    "effect_size = proportion_effectsize(p1, p2)\n",
    "power_analysis = NormalIndPower()\n",
    "\n",
    "sample_size = power_analysis.solve_power(\n",
    "    effect_size=effect_size,\n",
    "    power=0.8,\n",
    "    alpha=0.05,\n",
    "    ratio=1\n",
    ")\n",
    "\n",
    "print(f'Необходимый размер выборки на группу: {round(sample_size)}')"
   ]
  },
  {
   "cell_type": "markdown",
   "id": "SadyUDgZs0t3",
   "metadata": {
    "id": "SadyUDgZs0t3"
   },
   "source": [
    "- рассчитайте для каждой группы количество посетителей, сделавших покупку, и общее количество посетителей."
   ]
  },
  {
   "cell_type": "code",
   "execution_count": 15,
   "id": "7ph853Xks4sy",
   "metadata": {
    "id": "7ph853Xks4sy"
   },
   "outputs": [
    {
     "name": "stdout",
     "output_type": "stream",
     "text": [
      "\n",
      "Количество посетителей в группе А: 5383\n",
      "Количество посетителей, совершивших покупку, в группе А: 1480\n",
      "Количество посетителей в группе В: 5466\n",
      "Количество посетителей, совершивших покупку, в группе В: 1600\n",
      "\n"
     ]
    }
   ],
   "source": [
    "merge_df = events_f_7d.merge(participants, on='user_id', how='inner')\n",
    "\n",
    "# Считаем общее количество пользователей\n",
    "grp_a = merge_df[(merge_df['group'] == 'A') & (merge_df['event_name'] == 'login')]['user_id'].nunique()\n",
    "grp_b = merge_df[(merge_df['group'] == 'B') & (merge_df['event_name'] == 'login')]['user_id'].nunique()\n",
    "\n",
    "# Количество пользователей, совершивших покупку\n",
    "grp_a_p = merge_df[(merge_df['group'] == 'A') & (merge_df['event_name'] == 'purchase')]['user_id'].nunique()\n",
    "grp_b_p = merge_df[(merge_df['group'] == 'B') & (merge_df['event_name'] == 'purchase')]['user_id'].nunique()\n",
    "\n",
    "print(f\"\"\"\n",
    "Количество посетителей в группе А: {grp_a}\n",
    "Количество посетителей, совершивших покупку, в группе А: {grp_a_p}\n",
    "Количество посетителей в группе В: {grp_b}\n",
    "Количество посетителей, совершивших покупку, в группе В: {grp_b_p}\n",
    "\"\"\")"
   ]
  },
  {
   "cell_type": "code",
   "execution_count": 16,
   "id": "41c847f2",
   "metadata": {},
   "outputs": [
    {
     "data": {
      "image/png": "[encoded data removed]",
      "text/plain": [
       "<Figure size 432x360 with 1 Axes>"
      ]
     },
     "metadata": {
      "needs_background": "light"
     },
     "output_type": "display_data"
    }
   ],
   "source": [
    "# Строим график\n",
    "groups = ['A', 'B']\n",
    "conversion_rates = [grp_a_p / grp_a, grp_b_p / grp_b]\n",
    "\n",
    "plt.figure(figsize=(6, 5))\n",
    "bars = plt.bar(groups, conversion_rates)\n",
    "plt.ylabel('Конверсия в покупку')\n",
    "plt.title('Сравнение конверсий по группам')\n",
    "plt.grid(True)\n",
    "plt.show()"
   ]
  },
  {
   "cell_type": "code",
   "execution_count": 17,
   "id": "adccc88a",
   "metadata": {},
   "outputs": [
    {
     "name": "stdout",
     "output_type": "stream",
     "text": [
      "\n",
      "Конверсия пользователей в покупатели в группе А: 0.275\n",
      "Конверсия пользователей в покупатели в группе В: 0.293\n",
      "\n"
     ]
    }
   ],
   "source": [
    "print(f\"\"\"\n",
    "Конверсия пользователей в покупатели в группе А: {round(conversion_rates[0],3)}\n",
    "Конверсия пользователей в покупатели в группе В: {round(conversion_rates[1],3)}\n",
    "\"\"\")"
   ]
  },
  {
   "cell_type": "markdown",
   "id": "sh1JpGvAs5E3",
   "metadata": {
    "id": "sh1JpGvAs5E3"
   },
   "source": [
    "- сделайте предварительный общий вывод об изменении пользовательской активности в тестовой группе по сравнению с контрольной."
   ]
  },
  {
   "cell_type": "markdown",
   "id": "hHTHPkJYs8mE",
   "metadata": {
    "id": "hHTHPkJYs8mE"
   },
   "source": [
    "**Предварительный общий вывод:**\n",
    "\n",
    "После внедрения нового дизайна сайта наблюдается учеличение конверсии пользователей в покупатели в тестовой группе по сравнению с контрольной группой.\n",
    "- Конверсия в группе А примерно 0.275\n",
    "- Конверсия в группе В примерно 0.293\n",
    "\n",
    "Таким образом, конверсия в тестовой группе выросла примерно на 1.8 процентных пункта, что может указывать на положительное влияние редизайна."
   ]
  },
  {
   "cell_type": "markdown",
   "id": "IKZ1Oo3Ws919",
   "metadata": {
    "id": "IKZ1Oo3Ws919"
   },
   "source": [
    "## 4. Проведите оценку результатов A/B-тестирования:"
   ]
  },
  {
   "cell_type": "markdown",
   "id": "f55b5f69",
   "metadata": {},
   "source": [
    "Сформилируем гипотезы:\n",
    "- Н0 (нулевая гипотеза): конверсия в группе В не выше, чем в группе А\n",
    "- Н1 (альтернативная): конверсия в группе В выше, чем в группе А"
   ]
  },
  {
   "cell_type": "markdown",
   "id": "dcUdBSmvtC-E",
   "metadata": {
    "id": "dcUdBSmvtC-E"
   },
   "source": [
    "- Проверьте изменение конверсии подходящим статистическим тестом, учитывая все этапы проверки гипотез."
   ]
  },
  {
   "cell_type": "code",
   "execution_count": 18,
   "id": "l_KOziBQtL3t",
   "metadata": {
    "id": "l_KOziBQtL3t"
   },
   "outputs": [
    {
     "name": "stdout",
     "output_type": "stream",
     "text": [
      "p-value: 0.020012845303069515\n",
      "Принимаем альтернативную гипотезу\n"
     ]
    }
   ],
   "source": [
    "# Проведем Z тест для двух пропорций\n",
    "counts = [grp_a_p, grp_b_p] \n",
    "nobs = [grp_a, grp_b]\n",
    "\n",
    "z_stat, p_value = proportions_ztest(count=counts, nobs=nobs, alternative='smaller')\n",
    "\n",
    "alpha = 0.05\n",
    "\n",
    "print('p-value:', p_value)\n",
    "\n",
    "if p_value > alpha:\n",
    "    print('Нулевая гипотеза не отвергается.')\n",
    "else:\n",
    "    print('Принимаем альтернативную гипотезу')"
   ]
  },
  {
   "cell_type": "markdown",
   "id": "9jkyKOjgtGoc",
   "metadata": {
    "id": "9jkyKOjgtGoc"
   },
   "source": [
    "- Опишите выводы по проведённой оценке результатов A/B-тестирования. Что можно сказать про результаты A/B-тестирования? Был ли достигнут ожидаемый эффект в изменении конверсии?"
   ]
  },
  {
   "cell_type": "markdown",
   "id": "npoPPSKytKvR",
   "metadata": {
    "id": "npoPPSKytKvR"
   },
   "source": [
    "**Вывод по результатам А/В тестирования**\n",
    "\n",
    "Была проверена гипотеза о том, что редизайн сайт повышает конверсию пользователей в покупателей в течение первых 7  дней после регистрации. Выборка составила 5383 и 5467 человек в группах А и В соответственно. \n",
    "\n",
    "Согласно результатам:\n",
    "- Конверсия в группе А (контрольная): 27,5%\n",
    "- Конверсия в группе В (тестовая): 29,3%\n",
    "- Разница составляет 1,8 процентных пункта, что отличается от числа, заявленного в техническом задании - 3%\n",
    "- Р-значение: 0.02\n",
    " \n",
    "При уровне значимости 0.05 результат статистически значим. Это означает, что вероятность случайно получить такую разницу при равных конверсиях менее 1%.\n",
    "\n",
    "Нулевая гипотеза отвергнута, и мы принимаем альтернативную: **редизайн сайт действительно привел к росту конверсии**. Однако, рост конверсии хоть и статистически значим, все равно не достиг значений, указанных в изначальной гипотезе о росте конверсии в 3%."
   ]
  }
 ],
 "metadata": {
  "ExecuteTimeLog": [
   {
    "duration": 480,
    "start_time": "2025-03-28T09:11:59.967Z"
   },
   {
    "duration": 0,
    "start_time": "2025-03-28T09:12:00.458Z"
   },
   {
    "duration": 1,
    "start_time": "2025-03-28T09:12:00.459Z"
   },
   {
    "duration": 0,
    "start_time": "2025-03-28T09:12:00.461Z"
   },
   {
    "duration": 0,
    "start_time": "2025-03-28T09:12:00.463Z"
   },
   {
    "duration": 0,
    "start_time": "2025-03-28T09:12:00.464Z"
   },
   {
    "duration": 0,
    "start_time": "2025-03-28T09:12:00.465Z"
   },
   {
    "duration": 0,
    "start_time": "2025-03-28T09:12:00.467Z"
   },
   {
    "duration": 0,
    "start_time": "2025-03-28T09:12:00.468Z"
   },
   {
    "duration": 0,
    "start_time": "2025-03-28T09:12:00.470Z"
   },
   {
    "duration": 0,
    "start_time": "2025-03-28T09:12:00.471Z"
   },
   {
    "duration": 0,
    "start_time": "2025-03-28T09:12:00.472Z"
   },
   {
    "duration": 0,
    "start_time": "2025-03-28T09:12:00.474Z"
   },
   {
    "duration": 0,
    "start_time": "2025-03-28T09:12:00.475Z"
   },
   {
    "duration": 0,
    "start_time": "2025-03-28T09:12:00.476Z"
   },
   {
    "duration": 0,
    "start_time": "2025-03-28T09:12:00.477Z"
   },
   {
    "duration": 0,
    "start_time": "2025-03-28T09:12:00.478Z"
   },
   {
    "duration": 0,
    "start_time": "2025-03-28T09:12:00.479Z"
   },
   {
    "duration": 0,
    "start_time": "2025-03-28T09:12:00.480Z"
   },
   {
    "duration": 1344,
    "start_time": "2025-03-28T10:34:44.946Z"
   },
   {
    "duration": 1197,
    "start_time": "2025-03-28T10:35:03.069Z"
   },
   {
    "duration": 7,
    "start_time": "2025-03-28T10:35:04.268Z"
   },
   {
    "duration": 141,
    "start_time": "2025-03-28T10:35:04.277Z"
   },
   {
    "duration": 16,
    "start_time": "2025-03-28T10:35:04.420Z"
   },
   {
    "duration": 247,
    "start_time": "2025-03-28T10:35:04.438Z"
   },
   {
    "duration": 17,
    "start_time": "2025-03-28T10:35:04.687Z"
   },
   {
    "duration": 1467,
    "start_time": "2025-03-28T10:35:04.706Z"
   },
   {
    "duration": 13,
    "start_time": "2025-03-28T10:35:06.175Z"
   },
   {
    "duration": 143,
    "start_time": "2025-03-28T10:35:06.190Z"
   },
   {
    "duration": 322,
    "start_time": "2025-03-28T10:35:06.335Z"
   },
   {
    "duration": 12,
    "start_time": "2025-03-28T10:35:06.659Z"
   },
   {
    "duration": 268,
    "start_time": "2025-03-28T10:35:06.672Z"
   },
   {
    "duration": 65,
    "start_time": "2025-03-28T10:35:06.942Z"
   },
   {
    "duration": 14,
    "start_time": "2025-03-28T10:35:07.009Z"
   },
   {
    "duration": 124,
    "start_time": "2025-03-28T10:35:07.025Z"
   },
   {
    "duration": 0,
    "start_time": "2025-03-28T10:35:07.150Z"
   },
   {
    "duration": 0,
    "start_time": "2025-03-28T10:35:07.152Z"
   },
   {
    "duration": 0,
    "start_time": "2025-03-28T10:35:07.154Z"
   },
   {
    "duration": 0,
    "start_time": "2025-03-28T10:35:07.155Z"
   },
   {
    "duration": 1169,
    "start_time": "2025-03-28T10:35:34.895Z"
   },
   {
    "duration": 8,
    "start_time": "2025-03-28T10:35:36.067Z"
   },
   {
    "duration": 126,
    "start_time": "2025-03-28T10:35:36.076Z"
   },
   {
    "duration": 14,
    "start_time": "2025-03-28T10:35:36.204Z"
   },
   {
    "duration": 246,
    "start_time": "2025-03-28T10:35:36.220Z"
   },
   {
    "duration": 16,
    "start_time": "2025-03-28T10:35:36.467Z"
   },
   {
    "duration": 1551,
    "start_time": "2025-03-28T10:35:36.485Z"
   },
   {
    "duration": 21,
    "start_time": "2025-03-28T10:35:38.038Z"
   },
   {
    "duration": 122,
    "start_time": "2025-03-28T10:35:38.061Z"
   },
   {
    "duration": 341,
    "start_time": "2025-03-28T10:35:38.184Z"
   },
   {
    "duration": 11,
    "start_time": "2025-03-28T10:35:38.527Z"
   },
   {
    "duration": 254,
    "start_time": "2025-03-28T10:35:38.554Z"
   },
   {
    "duration": 66,
    "start_time": "2025-03-28T10:35:38.810Z"
   },
   {
    "duration": 14,
    "start_time": "2025-03-28T10:35:38.879Z"
   },
   {
    "duration": 117,
    "start_time": "2025-03-28T10:35:38.895Z"
   },
   {
    "duration": 0,
    "start_time": "2025-03-28T10:35:39.014Z"
   },
   {
    "duration": 0,
    "start_time": "2025-03-28T10:35:39.015Z"
   },
   {
    "duration": 0,
    "start_time": "2025-03-28T10:35:39.016Z"
   },
   {
    "duration": 0,
    "start_time": "2025-03-28T10:35:39.017Z"
   },
   {
    "duration": 236,
    "start_time": "2025-03-28T10:36:26.897Z"
   },
   {
    "duration": 11,
    "start_time": "2025-03-28T10:37:02.899Z"
   },
   {
    "duration": 10,
    "start_time": "2025-03-28T10:37:28.189Z"
   },
   {
    "duration": 81,
    "start_time": "2025-03-28T10:37:38.723Z"
   },
   {
    "duration": 13,
    "start_time": "2025-03-28T10:37:39.856Z"
   },
   {
    "duration": 1192,
    "start_time": "2025-03-28T10:37:55.997Z"
   },
   {
    "duration": 8,
    "start_time": "2025-03-28T10:37:57.190Z"
   },
   {
    "duration": 96,
    "start_time": "2025-03-28T10:37:57.199Z"
   },
   {
    "duration": 13,
    "start_time": "2025-03-28T10:37:57.296Z"
   },
   {
    "duration": 240,
    "start_time": "2025-03-28T10:37:57.311Z"
   },
   {
    "duration": 21,
    "start_time": "2025-03-28T10:37:57.553Z"
   },
   {
    "duration": 1567,
    "start_time": "2025-03-28T10:37:57.575Z"
   },
   {
    "duration": 14,
    "start_time": "2025-03-28T10:37:59.143Z"
   },
   {
    "duration": 128,
    "start_time": "2025-03-28T10:37:59.159Z"
   },
   {
    "duration": 317,
    "start_time": "2025-03-28T10:37:59.289Z"
   },
   {
    "duration": 9,
    "start_time": "2025-03-28T10:37:59.608Z"
   },
   {
    "duration": 268,
    "start_time": "2025-03-28T10:37:59.619Z"
   },
   {
    "duration": 72,
    "start_time": "2025-03-28T10:37:59.888Z"
   },
   {
    "duration": 14,
    "start_time": "2025-03-28T10:37:59.962Z"
   },
   {
    "duration": 122,
    "start_time": "2025-03-28T10:37:59.978Z"
   },
   {
    "duration": 120,
    "start_time": "2025-03-28T10:38:00.102Z"
   },
   {
    "duration": 3,
    "start_time": "2025-03-28T10:38:00.224Z"
   },
   {
    "duration": 31,
    "start_time": "2025-03-28T10:38:00.228Z"
   },
   {
    "duration": 104,
    "start_time": "2025-03-28T10:38:35.188Z"
   },
   {
    "duration": 1102,
    "start_time": "2025-03-30T18:33:07.445Z"
   },
   {
    "duration": 7,
    "start_time": "2025-03-30T18:33:08.549Z"
   },
   {
    "duration": 52,
    "start_time": "2025-03-30T18:33:08.557Z"
   },
   {
    "duration": 13,
    "start_time": "2025-03-30T18:33:08.611Z"
   },
   {
    "duration": 226,
    "start_time": "2025-03-30T18:33:08.626Z"
   },
   {
    "duration": 13,
    "start_time": "2025-03-30T18:33:08.853Z"
   },
   {
    "duration": 1371,
    "start_time": "2025-03-30T18:33:08.868Z"
   },
   {
    "duration": 12,
    "start_time": "2025-03-30T18:33:10.240Z"
   },
   {
    "duration": 110,
    "start_time": "2025-03-30T18:33:10.254Z"
   },
   {
    "duration": 290,
    "start_time": "2025-03-30T18:33:10.366Z"
   },
   {
    "duration": 10,
    "start_time": "2025-03-30T18:33:10.657Z"
   },
   {
    "duration": 255,
    "start_time": "2025-03-30T18:33:10.669Z"
   },
   {
    "duration": 55,
    "start_time": "2025-03-30T18:33:10.926Z"
   },
   {
    "duration": 28,
    "start_time": "2025-03-30T18:33:10.983Z"
   },
   {
    "duration": 80,
    "start_time": "2025-03-30T18:33:11.012Z"
   },
   {
    "duration": 114,
    "start_time": "2025-03-30T18:33:11.103Z"
   },
   {
    "duration": 3,
    "start_time": "2025-03-30T18:33:11.219Z"
   },
   {
    "duration": 23,
    "start_time": "2025-03-30T18:33:11.224Z"
   }
  ],
  "colab": {
   "provenance": [],
   "toc_visible": true
  },
  "kernelspec": {
   "display_name": "Python 3 (ipykernel)",
   "language": "python",
   "name": "python3"
  },
  "language_info": {
   "codemirror_mode": {
    "name": "ipython",
    "version": 3
   },
   "file_extension": ".py",
   "mimetype": "text/x-python",
   "name": "python",
   "nbconvert_exporter": "python",
   "pygments_lexer": "ipython3",
   "version": "3.9.5"
  },
  "toc": {
   "base_numbering": 1,
   "nav_menu": {},
   "number_sections": true,
   "sideBar": true,
   "skip_h1_title": true,
   "title_cell": "Table of Contents",
   "title_sidebar": "Contents",
   "toc_cell": false,
   "toc_position": {
    "height": "calc(100% - 180px)",
    "left": "10px",
    "top": "150px",
    "width": "308px"
   },
   "toc_section_display": true,
   "toc_window_display": true
  }
 },
 "nbformat": 4,
 "nbformat_minor": 5
}
